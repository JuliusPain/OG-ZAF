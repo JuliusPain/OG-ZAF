{
  "nbformat": 4,
  "nbformat_minor": 0,
  "metadata": {
    "colab": {
      "provenance": [],
      "gpuType": "V5E1",
      "authorship_tag": "ABX9TyMTlHYGJMkfXNPbQHRw+3vt",
      "include_colab_link": true
    },
    "kernelspec": {
      "name": "python3",
      "display_name": "Python 3"
    },
    "language_info": {
      "name": "python"
    },
    "accelerator": "TPU"
  },
  "cells": [
    {
      "cell_type": "markdown",
      "metadata": {
        "id": "view-in-github",
        "colab_type": "text"
      },
      "source": [
        "<a href=\"https://colab.research.google.com/github/JuliusPain/OG-ZAF/blob/main/Test.ipynb\" target=\"_parent\"><img src=\"https://colab.research.google.com/assets/colab-badge.svg\" alt=\"Open In Colab\"/></a>"
      ]
    },
    {
      "cell_type": "markdown",
      "source": [],
      "metadata": {
        "id": "197mj3At1IgN"
      }
    },
    {
      "cell_type": "code",
      "execution_count": 1,
      "metadata": {
        "colab": {
          "base_uri": "https://localhost:8080/"
        },
        "id": "0AK4QwjW0wik",
        "outputId": "585475fa-74a2-48a7-aa49-c9578ac992eb",
        "collapsed": true
      },
      "outputs": [
        {
          "output_type": "stream",
          "name": "stdout",
          "text": [
            "Cloning into 'OG-ZAF'...\n",
            "remote: Enumerating objects: 3080, done.\u001b[K\n",
            "remote: Counting objects: 100% (520/520), done.\u001b[K\n",
            "remote: Compressing objects: 100% (244/244), done.\u001b[K\n",
            "remote: Total 3080 (delta 301), reused 299 (delta 276), pack-reused 2560 (from 3)\u001b[K\n",
            "Receiving objects: 100% (3080/3080), 52.61 MiB | 31.63 MiB/s, done.\n",
            "Resolving deltas: 100% (1642/1642), done.\n"
          ]
        }
      ],
      "source": [
        "!git clone https://github.com/JuliusPain/OG-ZAF.git"
      ]
    },
    {
      "cell_type": "code",
      "source": [
        "%cd /content/OG-ZAF/examples/"
      ],
      "metadata": {
        "colab": {
          "base_uri": "https://localhost:8080/"
        },
        "id": "OC-xZPau1ADi",
        "outputId": "45afbbf9-89a8-49ae-d070-6255fc056e0e",
        "collapsed": true
      },
      "execution_count": 1,
      "outputs": [
        {
          "output_type": "stream",
          "name": "stdout",
          "text": [
            "/content/OG-ZAF/examples\n"
          ]
        }
      ]
    },
    {
      "cell_type": "code",
      "source": [
        "!pip install ogzaf"
      ],
      "metadata": {
        "colab": {
          "base_uri": "https://localhost:8080/",
          "height": 1000
        },
        "id": "5OVljWXY1FGk",
        "outputId": "249804ee-3ad8-42a5-9d34-6f1a0ad6d493",
        "collapsed": true
      },
      "execution_count": 3,
      "outputs": [
        {
          "output_type": "stream",
          "name": "stdout",
          "text": [
            "Collecting ogzaf\n",
            "  Downloading ogzaf-0.0.6-py3-none-any.whl.metadata (8.1 kB)\n",
            "Requirement already satisfied: numpy in /usr/local/lib/python3.11/dist-packages (from ogzaf) (1.26.4)\n",
            "Requirement already satisfied: psutil in /usr/local/lib/python3.11/dist-packages (from ogzaf) (5.9.5)\n",
            "Requirement already satisfied: scipy>=1.7.1 in /usr/local/lib/python3.11/dist-packages (from ogzaf) (1.13.1)\n",
            "Requirement already satisfied: pandas>=1.2.5 in /usr/local/lib/python3.11/dist-packages (from ogzaf) (2.2.2)\n",
            "Requirement already satisfied: matplotlib in /usr/local/lib/python3.11/dist-packages (from ogzaf) (3.10.0)\n",
            "Collecting dask>=2.30.0 (from ogzaf)\n",
            "  Downloading dask-2025.2.0-py3-none-any.whl.metadata (3.8 kB)\n",
            "Collecting distributed>=2.30.1 (from ogzaf)\n",
            "  Downloading distributed-2025.2.0-py3-none-any.whl.metadata (3.3 kB)\n",
            "Collecting paramtools>=0.15.0 (from ogzaf)\n",
            "  Downloading paramtools-0.19.0-py3-none-any.whl.metadata (11 kB)\n",
            "Requirement already satisfied: requests in /usr/local/lib/python3.11/dist-packages (from ogzaf) (2.32.3)\n",
            "Collecting pandas-datareader (from ogzaf)\n",
            "  Downloading pandas_datareader-0.10.0-py3-none-any.whl.metadata (2.9 kB)\n",
            "Collecting xlwt (from ogzaf)\n",
            "  Downloading xlwt-1.3.0-py2.py3-none-any.whl.metadata (3.5 kB)\n",
            "Collecting openpyxl>=3.1.2 (from ogzaf)\n",
            "  Downloading openpyxl-3.1.5-py2.py3-none-any.whl.metadata (2.5 kB)\n",
            "Collecting statsmodels (from ogzaf)\n",
            "  Downloading statsmodels-0.14.4-cp311-cp311-manylinux_2_17_x86_64.manylinux2014_x86_64.whl.metadata (9.2 kB)\n",
            "Collecting linearmodels (from ogzaf)\n",
            "  Downloading linearmodels-6.1-cp311-cp311-manylinux_2_17_x86_64.manylinux2014_x86_64.whl.metadata (7.9 kB)\n",
            "Requirement already satisfied: wheel in /usr/local/lib/python3.11/dist-packages (from ogzaf) (0.45.1)\n",
            "Collecting black (from ogzaf)\n",
            "  Downloading black-25.1.0-cp311-cp311-manylinux_2_17_x86_64.manylinux2014_x86_64.manylinux_2_28_x86_64.whl.metadata (81 kB)\n",
            "\u001b[2K     \u001b[90m━━━━━━━━━━━━━━━━━━━━━━━━━━━━━━━━━━━━━━━━\u001b[0m \u001b[32m81.3/81.3 kB\u001b[0m \u001b[31m1.6 MB/s\u001b[0m eta \u001b[36m0:00:00\u001b[0m\n",
            "\u001b[?25hCollecting linecheck (from ogzaf)\n",
            "  Downloading linecheck-0.1.0-py3-none-any.whl.metadata (412 bytes)\n",
            "Collecting ogcore (from ogzaf)\n",
            "  Downloading ogcore-0.13.2-py3-none-any.whl.metadata (11 kB)\n",
            "Requirement already satisfied: click>=8.1 in /usr/local/lib/python3.11/dist-packages (from dask>=2.30.0->ogzaf) (8.1.8)\n",
            "Requirement already satisfied: cloudpickle>=3.0.0 in /usr/local/lib/python3.11/dist-packages (from dask>=2.30.0->ogzaf) (3.1.1)\n",
            "Requirement already satisfied: fsspec>=2021.09.0 in /usr/local/lib/python3.11/dist-packages (from dask>=2.30.0->ogzaf) (2025.2.0)\n",
            "Requirement already satisfied: packaging>=20.0 in /usr/local/lib/python3.11/dist-packages (from dask>=2.30.0->ogzaf) (24.2)\n",
            "Collecting partd>=1.4.0 (from dask>=2.30.0->ogzaf)\n",
            "  Downloading partd-1.4.2-py3-none-any.whl.metadata (4.6 kB)\n",
            "Requirement already satisfied: pyyaml>=5.3.1 in /usr/local/lib/python3.11/dist-packages (from dask>=2.30.0->ogzaf) (6.0.2)\n",
            "Requirement already satisfied: toolz>=0.10.0 in /usr/local/lib/python3.11/dist-packages (from dask>=2.30.0->ogzaf) (1.0.0)\n",
            "Collecting importlib_metadata>=4.13.0 (from dask>=2.30.0->ogzaf)\n",
            "  Downloading importlib_metadata-8.6.1-py3-none-any.whl.metadata (4.7 kB)\n",
            "Requirement already satisfied: jinja2>=2.10.3 in /usr/local/lib/python3.11/dist-packages (from distributed>=2.30.1->ogzaf) (3.1.5)\n",
            "Collecting locket>=1.0.0 (from distributed>=2.30.1->ogzaf)\n",
            "  Downloading locket-1.0.0-py2.py3-none-any.whl.metadata (2.8 kB)\n",
            "Requirement already satisfied: msgpack>=1.0.2 in /usr/local/lib/python3.11/dist-packages (from distributed>=2.30.1->ogzaf) (1.1.0)\n",
            "Collecting sortedcontainers>=2.0.5 (from distributed>=2.30.1->ogzaf)\n",
            "  Downloading sortedcontainers-2.4.0-py2.py3-none-any.whl.metadata (10 kB)\n",
            "Collecting tblib>=1.6.0 (from distributed>=2.30.1->ogzaf)\n",
            "  Downloading tblib-3.0.0-py3-none-any.whl.metadata (25 kB)\n",
            "Requirement already satisfied: tornado>=6.2.0 in /usr/local/lib/python3.11/dist-packages (from distributed>=2.30.1->ogzaf) (6.4.2)\n",
            "Requirement already satisfied: urllib3>=1.26.5 in /usr/local/lib/python3.11/dist-packages (from distributed>=2.30.1->ogzaf) (2.3.0)\n",
            "Collecting zict>=3.0.0 (from distributed>=2.30.1->ogzaf)\n",
            "  Downloading zict-3.0.0-py2.py3-none-any.whl.metadata (899 bytes)\n",
            "Collecting et-xmlfile (from openpyxl>=3.1.2->ogzaf)\n",
            "  Downloading et_xmlfile-2.0.0-py3-none-any.whl.metadata (2.7 kB)\n",
            "Requirement already satisfied: python-dateutil>=2.8.2 in /usr/local/lib/python3.11/dist-packages (from pandas>=1.2.5->ogzaf) (2.9.0.post0)\n",
            "Requirement already satisfied: pytz>=2020.1 in /usr/local/lib/python3.11/dist-packages (from pandas>=1.2.5->ogzaf) (2025.1)\n",
            "Requirement already satisfied: tzdata>=2022.7 in /usr/local/lib/python3.11/dist-packages (from pandas>=1.2.5->ogzaf) (2025.1)\n",
            "Collecting marshmallow>=3.0.0 (from paramtools>=0.15.0->ogzaf)\n",
            "  Downloading marshmallow-3.26.1-py3-none-any.whl.metadata (7.3 kB)\n",
            "Collecting mypy-extensions>=0.4.3 (from black->ogzaf)\n",
            "  Downloading mypy_extensions-1.0.0-py3-none-any.whl.metadata (1.1 kB)\n",
            "Collecting pathspec>=0.9.0 (from black->ogzaf)\n",
            "  Downloading pathspec-0.12.1-py3-none-any.whl.metadata (21 kB)\n",
            "Requirement already satisfied: platformdirs>=2 in /usr/local/lib/python3.11/dist-packages (from black->ogzaf) (4.3.6)\n",
            "Collecting Cython>=3.0.10 (from linearmodels->ogzaf)\n",
            "  Downloading Cython-3.0.12-cp311-cp311-manylinux_2_17_x86_64.manylinux2014_x86_64.whl.metadata (3.3 kB)\n",
            "Collecting pyhdfe>=0.1 (from linearmodels->ogzaf)\n",
            "  Downloading pyhdfe-0.2.0-py3-none-any.whl.metadata (4.0 kB)\n",
            "Collecting formulaic>=1.0.0 (from linearmodels->ogzaf)\n",
            "  Downloading formulaic-1.1.1-py3-none-any.whl.metadata (6.9 kB)\n",
            "Collecting setuptools-scm<9.0.0,>=8.0.0 (from setuptools-scm[toml]<9.0.0,>=8.0.0->linearmodels->ogzaf)\n",
            "  Downloading setuptools_scm-8.2.0-py3-none-any.whl.metadata (6.8 kB)\n",
            "Collecting patsy>=0.5.6 (from statsmodels->ogzaf)\n",
            "  Downloading patsy-1.0.1-py2.py3-none-any.whl.metadata (3.3 kB)\n",
            "Collecting pathlib (from linecheck->ogzaf)\n",
            "  Downloading pathlib-1.0.1-py3-none-any.whl.metadata (5.1 kB)\n",
            "Collecting argparse (from linecheck->ogzaf)\n",
            "  Downloading argparse-1.4.0-py2.py3-none-any.whl.metadata (2.8 kB)\n",
            "Requirement already satisfied: contourpy>=1.0.1 in /usr/local/lib/python3.11/dist-packages (from matplotlib->ogzaf) (1.3.1)\n",
            "Requirement already satisfied: cycler>=0.10 in /usr/local/lib/python3.11/dist-packages (from matplotlib->ogzaf) (0.12.1)\n",
            "Requirement already satisfied: fonttools>=4.22.0 in /usr/local/lib/python3.11/dist-packages (from matplotlib->ogzaf) (4.56.0)\n",
            "Requirement already satisfied: kiwisolver>=1.3.1 in /usr/local/lib/python3.11/dist-packages (from matplotlib->ogzaf) (1.4.8)\n",
            "Requirement already satisfied: pillow>=8 in /usr/local/lib/python3.11/dist-packages (from matplotlib->ogzaf) (11.1.0)\n",
            "Requirement already satisfied: pyparsing>=2.3.1 in /usr/local/lib/python3.11/dist-packages (from matplotlib->ogzaf) (3.2.1)\n",
            "Requirement already satisfied: numba in /usr/local/lib/python3.11/dist-packages (from ogcore->ogzaf) (0.61.0)\n",
            "Requirement already satisfied: pip in /usr/local/lib/python3.11/dist-packages (from ogcore->ogzaf) (24.1.2)\n",
            "Collecting pygam (from ogcore->ogzaf)\n",
            "  Downloading pygam-0.9.1-py3-none-any.whl.metadata (7.1 kB)\n",
            "Collecting lxml (from pandas-datareader->ogzaf)\n",
            "  Downloading lxml-5.3.1-cp311-cp311-manylinux_2_28_x86_64.whl.metadata (3.7 kB)\n",
            "Requirement already satisfied: charset-normalizer<4,>=2 in /usr/local/lib/python3.11/dist-packages (from requests->ogzaf) (3.4.1)\n",
            "Requirement already satisfied: idna<4,>=2.5 in /usr/local/lib/python3.11/dist-packages (from requests->ogzaf) (3.10)\n",
            "Requirement already satisfied: certifi>=2017.4.17 in /usr/local/lib/python3.11/dist-packages (from requests->ogzaf) (2025.1.31)\n",
            "Collecting interface-meta>=1.2.0 (from formulaic>=1.0.0->linearmodels->ogzaf)\n",
            "  Downloading interface_meta-1.3.0-py3-none-any.whl.metadata (6.7 kB)\n",
            "Requirement already satisfied: typing-extensions>=4.2.0 in /usr/local/lib/python3.11/dist-packages (from formulaic>=1.0.0->linearmodels->ogzaf) (4.12.2)\n",
            "Requirement already satisfied: wrapt>=1.0 in /usr/local/lib/python3.11/dist-packages (from formulaic>=1.0.0->linearmodels->ogzaf) (1.17.2)\n",
            "Requirement already satisfied: zipp>=3.20 in /usr/local/lib/python3.11/dist-packages (from importlib_metadata>=4.13.0->dask>=2.30.0->ogzaf) (3.21.0)\n",
            "Requirement already satisfied: MarkupSafe>=2.0 in /usr/local/lib/python3.11/dist-packages (from jinja2>=2.10.3->distributed>=2.30.1->ogzaf) (3.0.2)\n",
            "Requirement already satisfied: six>=1.5 in /usr/local/lib/python3.11/dist-packages (from python-dateutil>=2.8.2->pandas>=1.2.5->ogzaf) (1.17.0)\n",
            "Requirement already satisfied: setuptools>=61 in /usr/local/lib/python3.11/dist-packages (from setuptools-scm<9.0.0,>=8.0.0->setuptools-scm[toml]<9.0.0,>=8.0.0->linearmodels->ogzaf) (75.1.0)\n",
            "Requirement already satisfied: llvmlite<0.45,>=0.44.0dev0 in /usr/local/lib/python3.11/dist-packages (from numba->ogcore->ogzaf) (0.44.0)\n",
            "Collecting progressbar2<5.0.0,>=4.2.0 (from pygam->ogcore->ogzaf)\n",
            "  Downloading progressbar2-4.5.0-py3-none-any.whl.metadata (16 kB)\n",
            "Collecting scipy>=1.7.1 (from ogzaf)\n",
            "  Downloading scipy-1.11.4-cp311-cp311-manylinux_2_17_x86_64.manylinux2014_x86_64.whl.metadata (60 kB)\n",
            "\u001b[2K     \u001b[90m━━━━━━━━━━━━━━━━━━━━━━━━━━━━━━━━━━━━━━━━\u001b[0m \u001b[32m60.4/60.4 kB\u001b[0m \u001b[31m3.0 MB/s\u001b[0m eta \u001b[36m0:00:00\u001b[0m\n",
            "\u001b[?25hCollecting python-utils>=3.8.1 (from progressbar2<5.0.0,>=4.2.0->pygam->ogcore->ogzaf)\n",
            "  Downloading python_utils-3.9.1-py2.py3-none-any.whl.metadata (9.8 kB)\n",
            "Downloading ogzaf-0.0.6-py3-none-any.whl (162 kB)\n",
            "\u001b[2K   \u001b[90m━━━━━━━━━━━━━━━━━━━━━━━━━━━━━━━━━━━━━━━━\u001b[0m \u001b[32m162.1/162.1 kB\u001b[0m \u001b[31m5.3 MB/s\u001b[0m eta \u001b[36m0:00:00\u001b[0m\n",
            "\u001b[?25hDownloading dask-2025.2.0-py3-none-any.whl (1.4 MB)\n",
            "\u001b[2K   \u001b[90m━━━━━━━━━━━━━━━━━━━━━━━━━━━━━━━━━━━━━━━━\u001b[0m \u001b[32m1.4/1.4 MB\u001b[0m \u001b[31m25.2 MB/s\u001b[0m eta \u001b[36m0:00:00\u001b[0m\n",
            "\u001b[?25hDownloading distributed-2025.2.0-py3-none-any.whl (1.0 MB)\n",
            "\u001b[2K   \u001b[90m━━━━━━━━━━━━━━━━━━━━━━━━━━━━━━━━━━━━━━━━\u001b[0m \u001b[32m1.0/1.0 MB\u001b[0m \u001b[31m51.6 MB/s\u001b[0m eta \u001b[36m0:00:00\u001b[0m\n",
            "\u001b[?25hDownloading openpyxl-3.1.5-py2.py3-none-any.whl (250 kB)\n",
            "\u001b[2K   \u001b[90m━━━━━━━━━━━━━━━━━━━━━━━━━━━━━━━━━━━━━━━━\u001b[0m \u001b[32m250.9/250.9 kB\u001b[0m \u001b[31m16.2 MB/s\u001b[0m eta \u001b[36m0:00:00\u001b[0m\n",
            "\u001b[?25hDownloading paramtools-0.19.0-py3-none-any.whl (57 kB)\n",
            "\u001b[2K   \u001b[90m━━━━━━━━━━━━━━━━━━━━━━━━━━━━━━━━━━━━━━━━\u001b[0m \u001b[32m57.3/57.3 kB\u001b[0m \u001b[31m5.6 MB/s\u001b[0m eta \u001b[36m0:00:00\u001b[0m\n",
            "\u001b[?25hDownloading black-25.1.0-cp311-cp311-manylinux_2_17_x86_64.manylinux2014_x86_64.manylinux_2_28_x86_64.whl (1.7 MB)\n",
            "\u001b[2K   \u001b[90m━━━━━━━━━━━━━━━━━━━━━━━━━━━━━━━━━━━━━━━━\u001b[0m \u001b[32m1.7/1.7 MB\u001b[0m \u001b[31m84.1 MB/s\u001b[0m eta \u001b[36m0:00:00\u001b[0m\n",
            "\u001b[?25hDownloading linearmodels-6.1-cp311-cp311-manylinux_2_17_x86_64.manylinux2014_x86_64.whl (1.7 MB)\n",
            "\u001b[2K   \u001b[90m━━━━━━━━━━━━━━━━━━━━━━━━━━━━━━━━━━━━━━━━\u001b[0m \u001b[32m1.7/1.7 MB\u001b[0m \u001b[31m74.8 MB/s\u001b[0m eta \u001b[36m0:00:00\u001b[0m\n",
            "\u001b[?25hDownloading statsmodels-0.14.4-cp311-cp311-manylinux_2_17_x86_64.manylinux2014_x86_64.whl (10.8 MB)\n",
            "\u001b[2K   \u001b[90m━━━━━━━━━━━━━━━━━━━━━━━━━━━━━━━━━━━━━━━━\u001b[0m \u001b[32m10.8/10.8 MB\u001b[0m \u001b[31m120.7 MB/s\u001b[0m eta \u001b[36m0:00:00\u001b[0m\n",
            "\u001b[?25hDownloading linecheck-0.1.0-py3-none-any.whl (2.8 kB)\n",
            "Downloading ogcore-0.13.2-py3-none-any.whl (427 kB)\n",
            "\u001b[2K   \u001b[90m━━━━━━━━━━━━━━━━━━━━━━━━━━━━━━━━━━━━━━━━\u001b[0m \u001b[32m427.8/427.8 kB\u001b[0m \u001b[31m28.0 MB/s\u001b[0m eta \u001b[36m0:00:00\u001b[0m\n",
            "\u001b[?25hDownloading pandas_datareader-0.10.0-py3-none-any.whl (109 kB)\n",
            "\u001b[2K   \u001b[90m━━━━━━━━━━━━━━━━━━━━━━━━━━━━━━━━━━━━━━━━\u001b[0m \u001b[32m109.5/109.5 kB\u001b[0m \u001b[31m5.4 MB/s\u001b[0m eta \u001b[36m0:00:00\u001b[0m\n",
            "\u001b[?25hDownloading xlwt-1.3.0-py2.py3-none-any.whl (99 kB)\n",
            "\u001b[2K   \u001b[90m━━━━━━━━━━━━━━━━━━━━━━━━━━━━━━━━━━━━━━━━\u001b[0m \u001b[32m100.0/100.0 kB\u001b[0m \u001b[31m8.3 MB/s\u001b[0m eta \u001b[36m0:00:00\u001b[0m\n",
            "\u001b[?25hDownloading Cython-3.0.12-cp311-cp311-manylinux_2_17_x86_64.manylinux2014_x86_64.whl (3.6 MB)\n",
            "\u001b[2K   \u001b[90m━━━━━━━━━━━━━━━━━━━━━━━━━━━━━━━━━━━━━━━━\u001b[0m \u001b[32m3.6/3.6 MB\u001b[0m \u001b[31m122.8 MB/s\u001b[0m eta \u001b[36m0:00:00\u001b[0m\n",
            "\u001b[?25hDownloading formulaic-1.1.1-py3-none-any.whl (115 kB)\n",
            "\u001b[2K   \u001b[90m━━━━━━━━━━━━━━━━━━━━━━━━━━━━━━━━━━━━━━━━\u001b[0m \u001b[32m115.7/115.7 kB\u001b[0m \u001b[31m10.9 MB/s\u001b[0m eta \u001b[36m0:00:00\u001b[0m\n",
            "\u001b[?25hDownloading importlib_metadata-8.6.1-py3-none-any.whl (26 kB)\n",
            "Downloading locket-1.0.0-py2.py3-none-any.whl (4.4 kB)\n",
            "Downloading marshmallow-3.26.1-py3-none-any.whl (50 kB)\n",
            "\u001b[2K   \u001b[90m━━━━━━━━━━━━━━━━━━━━━━━━━━━━━━━━━━━━━━━━\u001b[0m \u001b[32m50.9/50.9 kB\u001b[0m \u001b[31m4.8 MB/s\u001b[0m eta \u001b[36m0:00:00\u001b[0m\n",
            "\u001b[?25hDownloading mypy_extensions-1.0.0-py3-none-any.whl (4.7 kB)\n",
            "Downloading partd-1.4.2-py3-none-any.whl (18 kB)\n",
            "Downloading pathspec-0.12.1-py3-none-any.whl (31 kB)\n",
            "Downloading patsy-1.0.1-py2.py3-none-any.whl (232 kB)\n",
            "\u001b[2K   \u001b[90m━━━━━━━━━━━━━━━━━━━━━━━━━━━━━━━━━━━━━━━━\u001b[0m \u001b[32m232.9/232.9 kB\u001b[0m \u001b[31m21.1 MB/s\u001b[0m eta \u001b[36m0:00:00\u001b[0m\n",
            "\u001b[?25hDownloading pyhdfe-0.2.0-py3-none-any.whl (19 kB)\n",
            "Downloading setuptools_scm-8.2.0-py3-none-any.whl (43 kB)\n",
            "\u001b[2K   \u001b[90m━━━━━━━━━━━━━━━━━━━━━━━━━━━━━━━━━━━━━━━━\u001b[0m \u001b[32m43.9/43.9 kB\u001b[0m \u001b[31m3.3 MB/s\u001b[0m eta \u001b[36m0:00:00\u001b[0m\n",
            "\u001b[?25hDownloading sortedcontainers-2.4.0-py2.py3-none-any.whl (29 kB)\n",
            "Downloading tblib-3.0.0-py3-none-any.whl (12 kB)\n",
            "Downloading zict-3.0.0-py2.py3-none-any.whl (43 kB)\n",
            "\u001b[2K   \u001b[90m━━━━━━━━━━━━━━━━━━━━━━━━━━━━━━━━━━━━━━━━\u001b[0m \u001b[32m43.3/43.3 kB\u001b[0m \u001b[31m3.0 MB/s\u001b[0m eta \u001b[36m0:00:00\u001b[0m\n",
            "\u001b[?25hDownloading argparse-1.4.0-py2.py3-none-any.whl (23 kB)\n",
            "Downloading et_xmlfile-2.0.0-py3-none-any.whl (18 kB)\n",
            "Downloading lxml-5.3.1-cp311-cp311-manylinux_2_28_x86_64.whl (5.0 MB)\n",
            "\u001b[2K   \u001b[90m━━━━━━━━━━━━━━━━━━━━━━━━━━━━━━━━━━━━━━━━\u001b[0m \u001b[32m5.0/5.0 MB\u001b[0m \u001b[31m96.1 MB/s\u001b[0m eta \u001b[36m0:00:00\u001b[0m\n",
            "\u001b[?25hDownloading pathlib-1.0.1-py3-none-any.whl (14 kB)\n",
            "Downloading pygam-0.9.1-py3-none-any.whl (522 kB)\n",
            "\u001b[2K   \u001b[90m━━━━━━━━━━━━━━━━━━━━━━━━━━━━━━━━━━━━━━━━\u001b[0m \u001b[32m522.0/522.0 kB\u001b[0m \u001b[31m35.8 MB/s\u001b[0m eta \u001b[36m0:00:00\u001b[0m\n",
            "\u001b[?25hDownloading scipy-1.11.4-cp311-cp311-manylinux_2_17_x86_64.manylinux2014_x86_64.whl (36.4 MB)\n",
            "\u001b[2K   \u001b[90m━━━━━━━━━━━━━━━━━━━━━━━━━━━━━━━━━━━━━━━━\u001b[0m \u001b[32m36.4/36.4 MB\u001b[0m \u001b[31m42.8 MB/s\u001b[0m eta \u001b[36m0:00:00\u001b[0m\n",
            "\u001b[?25hDownloading interface_meta-1.3.0-py3-none-any.whl (14 kB)\n",
            "Downloading progressbar2-4.5.0-py3-none-any.whl (57 kB)\n",
            "\u001b[2K   \u001b[90m━━━━━━━━━━━━━━━━━━━━━━━━━━━━━━━━━━━━━━━━\u001b[0m \u001b[32m57.1/57.1 kB\u001b[0m \u001b[31m5.8 MB/s\u001b[0m eta \u001b[36m0:00:00\u001b[0m\n",
            "\u001b[?25hDownloading python_utils-3.9.1-py2.py3-none-any.whl (32 kB)\n",
            "Installing collected packages: xlwt, sortedcontainers, pathlib, argparse, zict, tblib, setuptools-scm, scipy, python-utils, patsy, pathspec, mypy-extensions, marshmallow, lxml, locket, linecheck, interface-meta, importlib_metadata, et-xmlfile, Cython, pyhdfe, progressbar2, partd, paramtools, openpyxl, black, statsmodels, pygam, pandas-datareader, formulaic, dask, linearmodels, distributed, ogcore, ogzaf\n",
            "  Attempting uninstall: scipy\n",
            "    Found existing installation: scipy 1.13.1\n",
            "    Uninstalling scipy-1.13.1:\n",
            "      Successfully uninstalled scipy-1.13.1\n",
            "  Attempting uninstall: importlib_metadata\n",
            "    Found existing installation: importlib-metadata 4.6.4\n",
            "    Uninstalling importlib-metadata-4.6.4:\n",
            "      Successfully uninstalled importlib-metadata-4.6.4\n",
            "Successfully installed Cython-3.0.12 argparse-1.4.0 black-25.1.0 dask-2025.2.0 distributed-2025.2.0 et-xmlfile-2.0.0 formulaic-1.1.1 importlib_metadata-8.6.1 interface-meta-1.3.0 linearmodels-6.1 linecheck-0.1.0 locket-1.0.0 lxml-5.3.1 marshmallow-3.26.1 mypy-extensions-1.0.0 ogcore-0.13.2 ogzaf-0.0.6 openpyxl-3.1.5 pandas-datareader-0.10.0 paramtools-0.19.0 partd-1.4.2 pathlib-1.0.1 pathspec-0.12.1 patsy-1.0.1 progressbar2-4.5.0 pygam-0.9.1 pyhdfe-0.2.0 python-utils-3.9.1 scipy-1.11.4 setuptools-scm-8.2.0 sortedcontainers-2.4.0 statsmodels-0.14.4 tblib-3.0.0 xlwt-1.3.0 zict-3.0.0\n"
          ]
        },
        {
          "output_type": "display_data",
          "data": {
            "application/vnd.colab-display-data+json": {
              "pip_warning": {
                "packages": [
                  "argparse",
                  "importlib_metadata",
                  "pathlib"
                ]
              },
              "id": "ad82ace9f8b440a480d3014d6077e671"
            }
          },
          "metadata": {}
        }
      ]
    },
    {
      "cell_type": "code",
      "source": [
        "# Need to fix references to Calculator, reform json, and substitute new tax\n",
        "# function call\n",
        "import multiprocessing\n",
        "from distributed import Client\n",
        "import os\n",
        "import json\n",
        "import time\n",
        "import copy\n",
        "import importlib.resources\n",
        "import matplotlib.pyplot as plt\n",
        "from ogcore.parameters import Specifications\n",
        "from ogcore import output_tables as ot\n",
        "from ogcore import output_plots as op\n",
        "from ogcore.execute import runner\n",
        "from ogcore.utils import safe_read_pickle, param_dump_json"
      ],
      "metadata": {
        "id": "o6-G6K8H1im2"
      },
      "execution_count": 2,
      "outputs": []
    },
    {
      "cell_type": "code",
      "source": [
        "# Use a custom matplotlib style file for plots\n",
        "plt.style.use(\"ogcore.OGcorePlots\")"
      ],
      "metadata": {
        "id": "uxepLg8uwerg"
      },
      "execution_count": 3,
      "outputs": []
    },
    {
      "cell_type": "code",
      "source": [
        "# Define parameters to use for multiprocessing\n",
        "num_workers = min(multiprocessing.cpu_count(),7)\n",
        "client = Client(n_workers=num_workers, threads_per_worker=1)\n",
        "print(\"Number of workers = \", num_workers)"
      ],
      "metadata": {
        "colab": {
          "base_uri": "https://localhost:8080/"
        },
        "id": "8G9HEBmDwjl6",
        "outputId": "d7c62cd0-28fa-4a2d-cf2d-ea7fd651f12d"
      },
      "execution_count": 4,
      "outputs": [
        {
          "output_type": "stream",
          "name": "stderr",
          "text": [
            "INFO:distributed.http.proxy:To route to workers diagnostics web server please install jupyter-server-proxy: python -m pip install jupyter-server-proxy\n",
            "INFO:distributed.scheduler:State start\n",
            "INFO:distributed.scheduler:  Scheduler at:     tcp://127.0.0.1:39967\n",
            "INFO:distributed.scheduler:  dashboard at:  http://127.0.0.1:8787/status\n",
            "INFO:distributed.scheduler:Registering Worker plugin shuffle\n",
            "INFO:distributed.nanny:        Start Nanny at: 'tcp://127.0.0.1:39465'\n",
            "INFO:distributed.nanny:        Start Nanny at: 'tcp://127.0.0.1:38563'\n",
            "INFO:distributed.nanny:        Start Nanny at: 'tcp://127.0.0.1:46485'\n",
            "INFO:distributed.nanny:        Start Nanny at: 'tcp://127.0.0.1:41273'\n",
            "INFO:distributed.nanny:        Start Nanny at: 'tcp://127.0.0.1:42529'\n",
            "INFO:distributed.nanny:        Start Nanny at: 'tcp://127.0.0.1:42139'\n",
            "INFO:distributed.nanny:        Start Nanny at: 'tcp://127.0.0.1:35477'\n",
            "INFO:distributed.scheduler:Register worker addr: tcp://127.0.0.1:37023 name: 3\n",
            "INFO:distributed.scheduler:Starting worker compute stream, tcp://127.0.0.1:37023\n",
            "INFO:distributed.core:Starting established connection to tcp://127.0.0.1:44220\n",
            "INFO:distributed.scheduler:Register worker addr: tcp://127.0.0.1:42387 name: 1\n",
            "INFO:distributed.scheduler:Starting worker compute stream, tcp://127.0.0.1:42387\n",
            "INFO:distributed.core:Starting established connection to tcp://127.0.0.1:44244\n",
            "INFO:distributed.scheduler:Register worker addr: tcp://127.0.0.1:36623 name: 0\n",
            "INFO:distributed.scheduler:Starting worker compute stream, tcp://127.0.0.1:36623\n",
            "INFO:distributed.core:Starting established connection to tcp://127.0.0.1:44218\n",
            "INFO:distributed.scheduler:Register worker addr: tcp://127.0.0.1:36765 name: 2\n",
            "INFO:distributed.scheduler:Starting worker compute stream, tcp://127.0.0.1:36765\n",
            "INFO:distributed.core:Starting established connection to tcp://127.0.0.1:44258\n",
            "INFO:distributed.scheduler:Register worker addr: tcp://127.0.0.1:38239 name: 4\n",
            "INFO:distributed.scheduler:Starting worker compute stream, tcp://127.0.0.1:38239\n",
            "INFO:distributed.core:Starting established connection to tcp://127.0.0.1:44274\n",
            "INFO:distributed.scheduler:Register worker addr: tcp://127.0.0.1:44701 name: 6\n",
            "INFO:distributed.scheduler:Starting worker compute stream, tcp://127.0.0.1:44701\n",
            "INFO:distributed.core:Starting established connection to tcp://127.0.0.1:44290\n",
            "INFO:distributed.scheduler:Register worker addr: tcp://127.0.0.1:35443 name: 5\n",
            "INFO:distributed.scheduler:Starting worker compute stream, tcp://127.0.0.1:35443\n",
            "INFO:distributed.core:Starting established connection to tcp://127.0.0.1:44278\n",
            "INFO:distributed.scheduler:Receive client connection: Client-b6be01d9-fac0-11ef-88af-0242ac1c000c\n",
            "INFO:distributed.core:Starting established connection to tcp://127.0.0.1:44300\n"
          ]
        },
        {
          "output_type": "stream",
          "name": "stdout",
          "text": [
            "Number of workers =  7\n"
          ]
        }
      ]
    },
    {
      "cell_type": "code",
      "source": [
        "# Directories to save data\n",
        "CUR_DIR = os.path.dirname(\"/content/OG-ZAF/examples/\")\n",
        "save_dir = os.path.join(CUR_DIR, \"OG-ZAF-MultipleIndustry-example\")\n",
        "base_dir = os.path.join(save_dir, \"OUTPUT_BASELINE\")\n",
        "reform_dir = os.path.join(save_dir, \"OUTPUT_REFORM\")"
      ],
      "metadata": {
        "id": "RrjA390TwuTB"
      },
      "execution_count": 5,
      "outputs": []
    },
    {
      "cell_type": "code",
      "source": [
        "# Set up baseline parameterization\n",
        "p = Specifications(\n",
        "    baseline=True,\n",
        "    num_workers=num_workers,\n",
        "    baseline_dir=base_dir,\n",
        "    output_base=base_dir,\n",
        ")"
      ],
      "metadata": {
        "id": "jMYS4FXvxFRF"
      },
      "execution_count": 6,
      "outputs": []
    },
    {
      "cell_type": "code",
      "source": [
        "# Update parameters for baseline from default json file\n",
        "with open('/content/OG-ZAF/ogzaf/ogzaf_default_parameters_multisector.json', 'r') as file:\n",
        "    defaults = json.load(file)\n",
        "p.update_specifications(defaults)"
      ],
      "metadata": {
        "id": "HsoCcbU2xPpc"
      },
      "execution_count": 7,
      "outputs": []
    },
    {
      "cell_type": "markdown",
      "source": [],
      "metadata": {
        "id": "yHPtpBY7wtUT"
      }
    },
    {
      "cell_type": "code",
      "source": [
        "# Run model\n",
        "start_time = time.time()\n",
        "runner(p, time_path=True, client=client)\n",
        "print(\"run time = \", time.time() - start_time)"
      ],
      "metadata": {
        "colab": {
          "base_uri": "https://localhost:8080/"
        },
        "id": "JNKn94N43LkL",
        "outputId": "8633afd2-aee4-4080-e36e-0b5cce05e66c"
      },
      "execution_count": null,
      "outputs": [
        {
          "output_type": "stream",
          "name": "stdout",
          "text": [
            "making dir:  /content/OG-ZAF/examples/OG-ZAF-MultipleIndustry-example/OUTPUT_BASELINE/SS\n",
            "making dir:  /content/OG-ZAF/examples/OG-ZAF-MultipleIndustry-example/OUTPUT_BASELINE/TPI\n",
            "In runner, baseline is  True\n",
            "SS using initial guess factors for r and TR of 1.0 and 1.0 , respectively.\n",
            "GE loop errors =  [0.004037342801324145, 0.003929447984157383, -0.1612368082815716, 0.4304303672348242, 6.401791351307592, -0.3928230419155311, 0.0, 1.9919543678489813, 0.005227691170410605, 0.0017984318322971733, 0.0021675261961197883, 0.03147709656172726, 0.0511491458754642, 0.12070757202947562, 0.01982610590725882, 0.08167012908180823, 0.06632578408266761]\n",
            "GE loop errors =  [0.003481449429214599, 0.003286041269915163, -0.13584928916745032, 0.4418380740316237, 6.460820764721142, -0.3879807952251244, 0.0, 2.046155245176257, 0.00747480226506075, 0.030670269528556594, 0.0389335092653531, 0.03146025656580862, 0.05112183157811872, 0.12064322964992989, 0.0198155415644519, 0.08389236505222653, 0.061904641414956434]\n",
            "GE loop errors =  [0.0033943008723781656, 0.0031852614611996982, -0.13183808917955764, 0.44364047910946924, 6.470147346861973, -0.38721572559470396, 0.0, 2.0554671794507495, 0.018878095932371178, 0.03066767660792457, 0.03893023250846522, 0.03145761652472328, 0.05111754945907563, 0.12063314256164619, 0.019813885370520236, 0.08427415435748073, 0.06123912824291127]\n",
            "GE loop errors =  [0.003394300264123795, 0.0031852614470758017, -0.13183808861674118, 0.4436404793623665, 6.470147348170598, -0.3872157254873563, 0.0, 2.055467177743154, 0.01887809608761795, 0.030667676838751472, 0.038930232796829854, 0.031457616754371566, 0.05111754982851699, 0.1206331433744811, 0.019813885507156372, 0.08427415428746932, 0.061239128201092626]\n",
            "GE loop errors =  [0.003394300740042891, 0.0031852607118569853, -0.13183808307092182, 0.4436405017675844, 6.470147411817148, -0.38721572102331003, 0.0, 2.055467179864981, 0.01887809592992924, 0.030667676603987212, 0.03893023250348944, 0.03145761652071437, 0.051117549452573206, 0.12063314254632887, 0.019813885368005296, 0.0842741543744642, 0.061239128187889826]\n",
            "GE loop errors =  [0.0033943008490951374, 0.003185261434241443, -0.1318381379439999, 0.443640479592176, 6.4701473493597454, -0.3872157253898091, 0.0, 2.0554671752823745, 0.01887809616990294, 0.030667676999642256, 0.03893023300752494, 0.031457616928005847, 0.051117550113241705, 0.12063314410030011, 0.019813885623016912, 0.08427415418657735, 0.06123912814167335]\n",
            "GE loop errors =  [0.003394300972774905, 0.003185261577322074, -0.1318380938068664, 0.4436404184533447, 6.4701473361028565, -0.3872157264772861, 0.0, 2.0554671804742535, 0.018878095929929038, 0.03066767660484075, 0.03893023250510717, 0.031457616522372014, 0.0511175494555559, 0.12063314255511642, 0.01981388536964192, 0.08427415439944438, 0.06123912827740858]\n",
            "GE loop errors =  [0.0033943008976190167, 0.0031852614903873228, -0.13183809034264105, 0.44364047858684574, 6.470147217942618, -0.38721572581654284, 0.0, 2.05546718048406, 0.018878095932183456, 0.03066767660775166, 0.038930232508328735, 0.03145761652466724, 0.051117549459029445, 0.12063314256180543, 0.019813885370575882, 0.08427415439984645, 0.061239128252287146]\n",
            "GE loop errors =  [0.0033943010273721694, 0.0031852616403914152, -0.13183809632008803, 0.4436404759009216, 6.470147330259275, -0.3872157493287819, 0.0, 2.0554671894871377, 0.018878095908646274, 0.03066767657495779, 0.038930232470141005, 0.031457616496038766, 0.051117549414369544, 0.12063314246723833, 0.019813885356219016, 0.08427415476897265, 0.06123912826299507]\n",
            "GE loop errors =  [0.0033943020464833537, 0.003185262818891685, -0.13183804142173283, 0.4436404790571984, 6.4701473465914985, -0.3872157256168912, -1.4901161193847656e-08, 2.055467217577976, 0.018878095936102297, 0.030667676617505732, 0.03893023252282445, 0.031457616537771696, 0.051117549481467836, 0.12063314262174966, 0.019813885381197858, 0.08427415592069701, 0.06123912701933291]\n",
            "GE loop errors =  [0.0033943008723781656, 0.0031852614611996982, -0.13183808917955675, 0.4436404791094697, 6.470147346861976, -0.38721572559470385, 0.0, 2.055467179450751, 0.018878095932371306, 0.03066767660792457, 0.038930232508465216, 0.0314576165247233, 0.05111754945907563, 0.12063314256164616, 0.019813885370520236, 0.08427415435748078, 0.061239128242911244]\n",
            "GE loop errors =  [0.003394300872375973, 0.0031852614611971586, -0.13183808917945683, 0.4436404791095143, 6.470147346862207, -0.38721572559468487, 0.0, 2.0554671794471147, 0.018878095927230058, 0.03066767660792451, 0.03893023250846514, 0.031457616524723224, 0.0511175494590755, 0.12063314256164591, 0.01981388537052019, 0.08427415435733171, 0.06123912824296086]\n",
            "GE loop errors =  [0.0033943008723763685, 0.0031852614611976166, -0.1318380891794737, 0.44364047910950744, 6.470147346862167, -0.387215725594688, 0.0, 2.055467179446861, 0.018878095932371268, 0.0306676766027181, 0.03893023250846514, 0.03145761652472323, 0.05111754945907553, 0.12063314256164594, 0.019813885370520194, 0.0842741543573213, 0.06123912824296839]\n",
            "GE loop errors =  [0.003394300872376896, 0.003185261461198227, -0.1318380891794977, 0.4436404791094959, 6.4701473468621105, -0.38721572559469253, 0.0, 2.0554671794474895, 0.018878095932371282, 0.030667676607924542, 0.03893023250427035, 0.031457616524723245, 0.05111754945907557, 0.12063314256164605, 0.01981388537052021, 0.08427415435734706, 0.06123912824296098]\n",
            "GE loop errors =  [0.0033943008723775828, 0.003185261461199018, -0.1318380891795301, 0.4436404791094817, 6.470147346862038, -0.38721572559469875, 0.0, 2.0554671794490575, 0.018878095932371296, 0.030667676607924556, 0.03893023250846519, 0.03145761652261381, 0.05111754945907558, 0.12063314256164615, 0.019813885370520222, 0.08427415435741137, 0.06123912824293775]\n",
            "GE loop errors =  [0.0033943008723775828, 0.003185261461199018, -0.13183808917953055, 0.4436404791094821, 6.470147346862036, -0.38721572559469886, 0.0, 2.0554671794490043, 0.018878095932371296, 0.03066767660792456, 0.03893023250846519, 0.03145761652472326, 0.05111754945695993, 0.12063314256164615, 0.019813885370520222, 0.08427415435740918, 0.06123912824293889]\n",
            "GE loop errors =  [0.003394300872377673, 0.0031852614611991292, -0.13183808917953455, 0.44364047910947946, 6.470147346862027, -0.38721572559469974, 0.0, 2.055467179449107, 0.018878095932371292, 0.03066767660792456, 0.038930232508465196, 0.031457616524723266, 0.0511175494590756, 0.1206331425597302, 0.019813885370520222, 0.08427415435741337, 0.06123912824293778]\n",
            "GE loop errors =  [0.003394300872378124, 0.0031852614611996566, -0.1318380891795563, 0.4436404791094699, 6.470147346861976, -0.38721572559470385, 0.0, 2.055467179450567, 0.018878095932371303, 0.03066767660792457, 0.03893023250846521, 0.03145761652472327, 0.051117549459075616, 0.12063314256164613, 0.01981388537030614, 0.08427415435747324, 0.06123912824291428]\n",
            "GE loop errors =  [0.003394300876247633, 0.0031852614656726896, -0.13183808935779906, 0.44364047902937753, 6.470147346447537, -0.38721572562870055, 0.0, 2.055467163517549, 0.018878095945900102, 0.030667676618849147, 0.03893023251586688, 0.03145761652789999, 0.05111754946204612, 0.1206331425641498, 0.019813885370756918, 0.0842741537042195, 0.06123912825365104]\n",
            "GE loop errors =  [0.0033943008723781656, 0.0031852614611996982, -0.13183808917955808, 0.44364047910946924, 6.470147346861973, -0.3872157255947041, 0.0, 2.0554671794507495, 0.018878095932371306, 0.03066767660792458, 0.03893023250846522, 0.0314576165247233, 0.05111754945907563, 0.12063314256164616, 0.019813885370520232, 0.08427415435748073, 0.06123912814209]\n",
            "GE loop errors =  [-0.002066874435067402, -0.002383773113816559, 0.0976429488489079, 0.08570715804153473, 2.645880336935388, 0.06486765010351825, 1.1102230246251565e-16, -0.05507732293734646, 0.0011827051048017637, 0.001677180884514462, 0.0016672110668946513, 0.0010648386563037945, 0.0015447869357383473, 0.0031602298269539086, 0.0005244846404276506, -0.0022581702404312065, -0.0010044873748296795]\n",
            "GE loop errors =  [0.001452860660791165, 0.0016699706065740477, -0.0720961497894459, -0.02440670909846565, 1.1855189906025254, -0.05945327424521618, 0.0, 0.039548794436170986, -0.0007630532568785771, -0.001019943373129155, -0.0010266236209798552, -0.0006744709149057795, -0.0009783298565582271, -0.002007304423125078, -0.0003320820489474477, 0.001621500571883025, 0.0004621732255525035]\n",
            "GE loop errors =  [-0.0017754896399339096, -0.0020424946235537284, 0.08841496165902951, -0.0013235198941221604, 0.1359739325213063, 0.06629043740110774, 1.1102230246251565e-16, -0.06581064565197625, 0.00041438817167606043, 0.00043849681879040703, 0.00044352995318552163, 0.0003104848685239678, 0.00043772164327445656, 0.0008762084326931208, 0.0001441163048547002, -0.002698236471731036, -0.0002793323352627136]\n",
            "GE loop errors =  [0.0004708353426331677, 0.0005423265431066665, -0.023240705228269487, -0.009222848775505499, 0.08642465251357612, -0.019609236915908324, 0.0, 0.01796085668921643, -0.00015255497082206776, -0.00017321089887688962, -0.00016900868722252022, -0.00011187965044270193, -0.00015584856426210242, -0.00030620821628432604, -5.077823099993231e-05, 0.0007363951242578687, 7.186059013408741e-05]\n",
            "GE loop errors =  [0.00023205080285872148, 0.0002672010895077362, -0.01150722844958496, -0.0053287087073414785, 0.04857099777562812, -0.009827223558362408, 0.0, 0.008967359323938773, -7.684492443686686e-05, -8.695520357251268e-05, -8.468836939069108e-05, -5.6001204798976356e-05, -7.789671098489687e-05, -0.000152777865790793, -2.534799983931746e-05, 0.0003676617322814907, 3.469026029478961e-05]\n",
            "GE loop errors =  [2.5325996591968325e-06, 2.9672220917612013e-06, -9.900218322300702e-05, -0.00021355094797481655, 0.0016690925333660012, -5.153164996996029e-05, 0.0, 7.432941718032993e-05, -1.493039306570132e-06, -1.722865869510648e-06, -1.7856803642898877e-06, -1.261474995115086e-06, -1.8279118994615762e-06, -3.7940061715924234e-06, -6.342172828681381e-07, 3.0475061043866436e-06, -1.5990402837950946e-07]\n",
            "GE loop errors =  [9.241895843337122e-07, 1.0663337509514426e-06, -4.3919001025294335e-05, -3.213039911975635e-05, 8.654885369363541e-05, -3.680907781178355e-05, 0.0, 3.488147101382566e-05, -1.9075200848386875e-07, -2.1932297740445694e-07, -2.2124412309143526e-07, -1.510976816651577e-07, -2.1420864466936695e-07, -4.3143614675278386e-07, -7.113693336127658e-08, 1.4301403115646316e-06, 1.6129678601095598e-07]\n",
            "GE loop errors =  [-1.451352621417712e-07, -1.673886040054473e-07, 6.982627973162181e-06, -7.127134666884416e-07, -1.949328474282197e-05, 5.5826788347701495e-06, 0.0, -4.978426475510389e-06, 3.809746304192507e-08, 4.394843883259725e-08, 4.3836057270207895e-08, 2.9628648520740875e-08, 4.195702296705406e-08, 8.41887776992234e-08, 1.3971138336510425e-08, -2.0411548549981173e-07, -2.8596458867546914e-08]\n",
            "GE loop errors =  [-1.0511824244385792e-08, -1.2104311747362928e-08, 5.17289218571193e-07, -1.1172549481131e-06, -1.1760495883805788e-06, 3.802382617656974e-07, 0.0, -3.092126972248366e-07, 2.5453667194808016e-09, 2.948686191051042e-09, 2.878890903446063e-09, 1.897574236631172e-09, 2.658742656591606e-09, 5.248364215448831e-09, 8.65130911353873e-10, -1.2677720581666385e-08, -2.4081835692246756e-09]\n",
            "GE loop errors =  [-1.1896674895206516e-09, -1.367218803449699e-09, 5.991211038391953e-08, -2.4238475471172194e-07, -6.27690588395069e-08, 4.141789167189103e-08, 0.0, -3.2051205689498374e-08, 1.730167155378215e-10, 2.014065511590779e-10, 1.920938200172806e-10, 1.224550044698347e-10, 1.6844954597861062e-10, 3.230744838322863e-10, 5.1117325650107404e-11, -1.314099426497073e-09, -2.7941145230858666e-10]\n",
            "GE loop errors =  [-1.4879146525981213e-10, -1.7082901065945677e-10, 7.583853989245881e-09, -3.804188408729203e-08, -4.140127796148363e-09, 5.064626940054495e-09, 0.0, -3.817956173435277e-09, 1.3206272880816883e-11, 1.561650114778601e-11, 1.4815967896986137e-11, 9.264110312212637e-12, 1.2619107148115205e-11, 2.3674090465775066e-11, 3.4834773954273146e-12, -1.5653620066835572e-10, -3.488649646943287e-11]\n",
            "GE loop errors =  [-1.2932842297086466e-11, -1.4851717078379068e-11, 6.574629729527715e-10, -3.1570288605564656e-09, -4.534714825865649e-10, 4.427546107521607e-10, 0.0, -3.37758265800403e-10, 1.187980269712341e-12, 1.4145004612053924e-12, 1.3772524787292184e-12, 8.862077738314156e-13, 1.2270670590730504e-12, 2.3556989692252728e-12, 3.5346378601808226e-13, -1.3848075464117926e-11, -2.982919466987255e-12]\n",
            "GE loop errors =  [2.946046184781892e-13, 3.3825026113376566e-13, -1.4990675367698714e-11, 7.443223815073452e-11, 7.951861391575221e-12, -1.003086502748829e-11, 0.0, 7.530420731427512e-12, -2.9965613324023366e-14, -3.667899317605361e-14, -3.3383018571697676e-14, -1.965094753586527e-14, -2.6520452500733427e-14, -4.8683279629813114e-14, -7.17134684968812e-15, 3.087391453604482e-13, 7.037426197342711e-14]\n",
            "Iteration: 01  Distance:  3.877547953419182e-11\n",
            "SS debt =  3.1750934501241805 0.0017449809383020191\n",
            "IO:  (4, 5) , C:  (5,)\n",
            "Foreign debt holdings =  0.7511490457746415\n",
            "Foreign capital holdings =  6.5074969564771985\n",
            "resource constraint:  [ 3.03909675e-13  5.63299407e-14  1.13342669e-12 -1.61426428e-13]\n",
            "Checking constraints on capital, labor, and consumption.\n",
            "\tThere were no violations of the constraints on labor  supply.\n",
            "\tThere were no violations of the constraints on  consumption.\n",
            "Maximum error in labor FOC =  3.135269821541442e-13\n",
            "Maximum error in savings FOC =  1.0746958878371515e-13\n",
            "JUST SAVED SS output to  /content/OG-ZAF/examples/OG-ZAF-MultipleIndustry-example/OUTPUT_BASELINE/SS/SS_vars.pkl\n",
            "Government spending breakpoints are tG1:  20 ; and tG2: 256\n",
            "Maximum debt ratio:  3.4672221547154485\n",
            "w diff:  0.3694388507348303 0.04351386243872568\n",
            "r diff:  -0.0010776140446439944 -0.010017942267054492\n",
            "r_p diff:  -0.0009209743664934517 -0.00864953804013869\n",
            "p_m diff:  0.3331324866272034 0.0\n",
            "BQ diff:  0.015148576427543511 -0.0003240681493927866\n",
            "TR diff:  0.007769644626471214 -0.0004125638687199895\n",
            "Iteration: 1\n",
            "\tDistance: 0.20608319349029255\n",
            "Maximum debt ratio:  3.461275001890349\n",
            "w diff:  0.10698340049465926 0.012842261657012077\n",
            "r diff:  -0.0003229715487631443 -0.003289117625224984\n",
            "r_p diff:  -0.00027388011953933394 -0.0028424211319735618\n",
            "p_m diff:  0.0 -0.2074035179777356\n",
            "BQ diff:  0.009708478675470422 -0.0001544277084866985\n",
            "TR diff:  0.006772577213014885 0.00020525357060562077\n",
            "Iteration: 2\n",
            "\tDistance: 0.17432279143120763\n",
            "Maximum debt ratio:  3.428211459472971\n",
            "w diff:  0.08637804463341814 0.011781702260138971\n",
            "r diff:  -0.0002936202019362816 -0.0025235816329227598\n",
            "r_p diff:  -0.00025076942922710316 -0.0021827763012337575\n",
            "p_m diff:  0.020162144968305373 -0.05655691042137034\n",
            "BQ diff:  0.006191034523279432 -8.791593989036783e-05\n",
            "TR diff:  0.0032770068706984845 -0.00019025553978950505\n",
            "Iteration: 3\n",
            "\tDistance: 0.05641050443875261\n",
            "Maximum debt ratio:  3.395765539163208\n",
            "w diff:  0.04530895353800579 0.00619900457670397\n",
            "r diff:  -0.00015488066736820544 -0.001353778772496872\n",
            "r_p diff:  -0.00013226138292991851 -0.0011721238861807995\n",
            "p_m diff:  0.0 -0.0477833955657303\n",
            "BQ diff:  0.003920716651322792 -7.662592188718842e-05\n",
            "TR diff:  0.001836503310769677 -0.000332412631467785\n",
            "Iteration: 4\n",
            "\tDistance: 0.033572576328252175\n"
          ]
        }
      ]
    },
    {
      "cell_type": "code",
      "source": [
        "# create new Specifications object for reform simulation\n",
        "p2 = copy.deepcopy(p)\n",
        "p2.baseline = False\n",
        "p2.output_base = reform_dir"
      ],
      "metadata": {
        "id": "mlvhM16d3gw6"
      },
      "execution_count": null,
      "outputs": []
    },
    {
      "cell_type": "code",
      "source": [
        "# In this scenario, a two percent VAT rate hike and a spending cut are introduced. They are staggared over 4 years\n",
        "updated_params_ref = {\n",
        "    \"tau_c\": [\n",
        "        [0.15,0.155,0.16,0.165,0.17],\n",
        "    ],\n",
        "   \"alpha_G\": [0.23,0,0.22,0.21,0.20],\n",
        "}\n",
        "p2.update_specifications(updated_params_ref)"
      ],
      "metadata": {
        "id": "JjD0tzM-3uVo"
      },
      "execution_count": null,
      "outputs": []
    },
    {
      "cell_type": "code",
      "source": [
        "# Run model\n",
        "start_time = time.time()\n",
        "runner(p2, time_path=True, client=client)\n",
        "print(\"run time = \", time.time() - start_time)\n",
        "client.close()"
      ],
      "metadata": {
        "id": "WJgnejWs5Ai3"
      },
      "execution_count": null,
      "outputs": []
    },
    {
      "cell_type": "code",
      "source": [
        "#Save some of the results\n",
        "\n",
        "base_tpi = safe_read_pickle(os.path.join(base_dir, \"TPI\", \"TPI_vars.pkl\"))\n",
        "base_params = safe_read_pickle(os.path.join(base_dir, \"model_params.pkl\"))\n",
        "reform_tpi = safe_read_pickle(\n",
        "    os.path.join(reform_dir, \"TPI\", \"TPI_vars.pkl\")\n",
        ")\n",
        "reform_params = safe_read_pickle(\n",
        "    os.path.join(reform_dir, \"model_params.pkl\")\n",
        ")\n",
        "ans = ot.macro_table(\n",
        "    base_tpi,\n",
        "    base_params,\n",
        "    reform_tpi=reform_tpi,\n",
        "    reform_params=reform_params,\n",
        "    var_list=[\"Y\", \"C\", \"K\", \"L\", \"r\", \"w\"],\n",
        "    output_type=\"pct_diff\",\n",
        "    num_years=10,\n",
        "    start_year=base_params.start_year,\n",
        ")"
      ],
      "metadata": {
        "id": "FFQwupL27hJy"
      },
      "execution_count": null,
      "outputs": []
    },
    {
      "cell_type": "code",
      "source": [
        "import os\n",
        "print(os.getcwd())"
      ],
      "metadata": {
        "colab": {
          "base_uri": "https://localhost:8080/"
        },
        "id": "qcDUjeCpyRRv",
        "outputId": "c956faae-e6bb-43be-e477-811afd8b7c05"
      },
      "execution_count": 29,
      "outputs": [
        {
          "output_type": "stream",
          "name": "stdout",
          "text": [
            "/content/OG-ZAF/ogzaf\n"
          ]
        }
      ]
    }
  ]
}